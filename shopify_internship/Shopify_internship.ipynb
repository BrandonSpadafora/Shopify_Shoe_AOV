{
 "cells": [
  {
   "cell_type": "markdown",
   "id": "6d5629a5",
   "metadata": {},
   "source": [
    "# Shopify Internship Question "
   ]
  },
  {
   "cell_type": "markdown",
   "id": "3a30ec53",
   "metadata": {},
   "source": [
    "On Shopify, we have exactly 100 sneaker shops, and each of these shops sells only one model of shoe. We want to do some analysis of the average order value (AOV). When we look at orders data over a 30 day window, we naively calculate an AOV of $3145.13. Given that we know these shops are selling sneakers, a relatively affordable item, something seems wrong with our analysis. \n",
    "\n",
    "Think about what could be going wrong with our calculation. \n",
    "Think about a better way to evaluate this data. \n",
    "\n",
    "What metric would you report for this dataset?\n",
    "\n",
    "What is its value?\n"
   ]
  },
  {
   "cell_type": "code",
   "execution_count": 33,
   "id": "55a75327",
   "metadata": {},
   "outputs": [],
   "source": [
    "# Imports\n",
    "import pandas as pd\n",
    "from pathlib import Path\n",
    "import matplotlib.pyplot as plt"
   ]
  },
  {
   "cell_type": "code",
   "execution_count": 34,
   "id": "3c5247e8",
   "metadata": {},
   "outputs": [
    {
     "data": {
      "text/html": [
       "<div>\n",
       "<style scoped>\n",
       "    .dataframe tbody tr th:only-of-type {\n",
       "        vertical-align: middle;\n",
       "    }\n",
       "\n",
       "    .dataframe tbody tr th {\n",
       "        vertical-align: top;\n",
       "    }\n",
       "\n",
       "    .dataframe thead th {\n",
       "        text-align: right;\n",
       "    }\n",
       "</style>\n",
       "<table border=\"1\" class=\"dataframe\">\n",
       "  <thead>\n",
       "    <tr style=\"text-align: right;\">\n",
       "      <th></th>\n",
       "      <th>order_id</th>\n",
       "      <th>shop_id</th>\n",
       "      <th>user_id</th>\n",
       "      <th>order_amount</th>\n",
       "      <th>total_items</th>\n",
       "      <th>payment_method</th>\n",
       "      <th>created_at</th>\n",
       "    </tr>\n",
       "  </thead>\n",
       "  <tbody>\n",
       "    <tr>\n",
       "      <th>0</th>\n",
       "      <td>1</td>\n",
       "      <td>53</td>\n",
       "      <td>746</td>\n",
       "      <td>224</td>\n",
       "      <td>2</td>\n",
       "      <td>cash</td>\n",
       "      <td>2017-03-13 12:36:56</td>\n",
       "    </tr>\n",
       "    <tr>\n",
       "      <th>1</th>\n",
       "      <td>2</td>\n",
       "      <td>92</td>\n",
       "      <td>925</td>\n",
       "      <td>90</td>\n",
       "      <td>1</td>\n",
       "      <td>cash</td>\n",
       "      <td>2017-03-03 17:38:52</td>\n",
       "    </tr>\n",
       "    <tr>\n",
       "      <th>2</th>\n",
       "      <td>3</td>\n",
       "      <td>44</td>\n",
       "      <td>861</td>\n",
       "      <td>144</td>\n",
       "      <td>1</td>\n",
       "      <td>cash</td>\n",
       "      <td>2017-03-14 4:23:56</td>\n",
       "    </tr>\n",
       "    <tr>\n",
       "      <th>3</th>\n",
       "      <td>4</td>\n",
       "      <td>18</td>\n",
       "      <td>935</td>\n",
       "      <td>156</td>\n",
       "      <td>1</td>\n",
       "      <td>credit_card</td>\n",
       "      <td>2017-03-26 12:43:37</td>\n",
       "    </tr>\n",
       "    <tr>\n",
       "      <th>4</th>\n",
       "      <td>5</td>\n",
       "      <td>18</td>\n",
       "      <td>883</td>\n",
       "      <td>156</td>\n",
       "      <td>1</td>\n",
       "      <td>credit_card</td>\n",
       "      <td>2017-03-01 4:35:11</td>\n",
       "    </tr>\n",
       "  </tbody>\n",
       "</table>\n",
       "</div>"
      ],
      "text/plain": [
       "   order_id  shop_id  user_id  order_amount  total_items payment_method  \\\n",
       "0         1       53      746           224            2           cash   \n",
       "1         2       92      925            90            1           cash   \n",
       "2         3       44      861           144            1           cash   \n",
       "3         4       18      935           156            1    credit_card   \n",
       "4         5       18      883           156            1    credit_card   \n",
       "\n",
       "            created_at  \n",
       "0  2017-03-13 12:36:56  \n",
       "1  2017-03-03 17:38:52  \n",
       "2   2017-03-14 4:23:56  \n",
       "3  2017-03-26 12:43:37  \n",
       "4   2017-03-01 4:35:11  "
      ]
     },
     "execution_count": 34,
     "metadata": {},
     "output_type": "execute_result"
    }
   ],
   "source": [
    "# Bring in CSV and create dataframe and call it df\n",
    "csv_path = Path(\"Shopify_data.csv\")\n",
    "\n",
    "df = pd.read_csv(csv_path, infer_datetime_format=True, parse_dates=True, )\n",
    "df.head()\n",
    "\n"
   ]
  },
  {
   "cell_type": "code",
   "execution_count": 35,
   "id": "87313779",
   "metadata": {},
   "outputs": [],
   "source": [
    "# turn the created_at column into a datetime column\n",
    "df['created_at'] = pd.to_datetime(df['created_at'])"
   ]
  },
  {
   "cell_type": "code",
   "execution_count": 36,
   "id": "36e471bd",
   "metadata": {},
   "outputs": [
    {
     "data": {
      "text/plain": [
       "order_id                   int64\n",
       "shop_id                    int64\n",
       "user_id                    int64\n",
       "order_amount               int64\n",
       "total_items                int64\n",
       "payment_method            object\n",
       "created_at        datetime64[ns]\n",
       "dtype: object"
      ]
     },
     "execution_count": 36,
     "metadata": {},
     "output_type": "execute_result"
    }
   ],
   "source": [
    "# making sure the column created_at is datetime\n",
    "df.dtypes"
   ]
  },
  {
   "cell_type": "code",
   "execution_count": 37,
   "id": "6e3a4af1",
   "metadata": {},
   "outputs": [
    {
     "data": {
      "text/plain": [
       "order_id          0\n",
       "shop_id           0\n",
       "user_id           0\n",
       "order_amount      0\n",
       "total_items       0\n",
       "payment_method    0\n",
       "created_at        0\n",
       "dtype: int64"
      ]
     },
     "execution_count": 37,
     "metadata": {},
     "output_type": "execute_result"
    }
   ],
   "source": [
    "# Identifying frequency counts of the nulls\n",
    "df.isnull().sum()"
   ]
  },
  {
   "cell_type": "code",
   "execution_count": 38,
   "id": "8846d4b4",
   "metadata": {},
   "outputs": [
    {
     "data": {
      "text/plain": [
       "0"
      ]
     },
     "execution_count": 38,
     "metadata": {},
     "output_type": "execute_result"
    }
   ],
   "source": [
    "# looking for duplicates\n",
    "df.duplicated().sum()"
   ]
  },
  {
   "cell_type": "code",
   "execution_count": 39,
   "id": "de638d34",
   "metadata": {},
   "outputs": [
    {
     "data": {
      "text/html": [
       "<div>\n",
       "<style scoped>\n",
       "    .dataframe tbody tr th:only-of-type {\n",
       "        vertical-align: middle;\n",
       "    }\n",
       "\n",
       "    .dataframe tbody tr th {\n",
       "        vertical-align: top;\n",
       "    }\n",
       "\n",
       "    .dataframe thead th {\n",
       "        text-align: right;\n",
       "    }\n",
       "</style>\n",
       "<table border=\"1\" class=\"dataframe\">\n",
       "  <thead>\n",
       "    <tr style=\"text-align: right;\">\n",
       "      <th></th>\n",
       "      <th>order_id</th>\n",
       "      <th>shop_id</th>\n",
       "      <th>user_id</th>\n",
       "      <th>order_amount</th>\n",
       "      <th>total_items</th>\n",
       "      <th>payment_method</th>\n",
       "      <th>created_at</th>\n",
       "    </tr>\n",
       "  </thead>\n",
       "  <tbody>\n",
       "    <tr>\n",
       "      <th>0</th>\n",
       "      <td>1</td>\n",
       "      <td>53</td>\n",
       "      <td>746</td>\n",
       "      <td>224</td>\n",
       "      <td>2</td>\n",
       "      <td>cash</td>\n",
       "      <td>2017-03-13 12:36:56</td>\n",
       "    </tr>\n",
       "    <tr>\n",
       "      <th>1</th>\n",
       "      <td>2</td>\n",
       "      <td>92</td>\n",
       "      <td>925</td>\n",
       "      <td>90</td>\n",
       "      <td>1</td>\n",
       "      <td>cash</td>\n",
       "      <td>2017-03-03 17:38:52</td>\n",
       "    </tr>\n",
       "    <tr>\n",
       "      <th>2</th>\n",
       "      <td>3</td>\n",
       "      <td>44</td>\n",
       "      <td>861</td>\n",
       "      <td>144</td>\n",
       "      <td>1</td>\n",
       "      <td>cash</td>\n",
       "      <td>2017-03-14 04:23:56</td>\n",
       "    </tr>\n",
       "    <tr>\n",
       "      <th>3</th>\n",
       "      <td>4</td>\n",
       "      <td>18</td>\n",
       "      <td>935</td>\n",
       "      <td>156</td>\n",
       "      <td>1</td>\n",
       "      <td>credit_card</td>\n",
       "      <td>2017-03-26 12:43:37</td>\n",
       "    </tr>\n",
       "    <tr>\n",
       "      <th>4</th>\n",
       "      <td>5</td>\n",
       "      <td>18</td>\n",
       "      <td>883</td>\n",
       "      <td>156</td>\n",
       "      <td>1</td>\n",
       "      <td>credit_card</td>\n",
       "      <td>2017-03-01 04:35:11</td>\n",
       "    </tr>\n",
       "    <tr>\n",
       "      <th>...</th>\n",
       "      <td>...</td>\n",
       "      <td>...</td>\n",
       "      <td>...</td>\n",
       "      <td>...</td>\n",
       "      <td>...</td>\n",
       "      <td>...</td>\n",
       "      <td>...</td>\n",
       "    </tr>\n",
       "    <tr>\n",
       "      <th>4995</th>\n",
       "      <td>4996</td>\n",
       "      <td>73</td>\n",
       "      <td>993</td>\n",
       "      <td>330</td>\n",
       "      <td>2</td>\n",
       "      <td>debit</td>\n",
       "      <td>2017-03-30 13:47:17</td>\n",
       "    </tr>\n",
       "    <tr>\n",
       "      <th>4996</th>\n",
       "      <td>4997</td>\n",
       "      <td>48</td>\n",
       "      <td>789</td>\n",
       "      <td>234</td>\n",
       "      <td>2</td>\n",
       "      <td>cash</td>\n",
       "      <td>2017-03-16 20:36:16</td>\n",
       "    </tr>\n",
       "    <tr>\n",
       "      <th>4997</th>\n",
       "      <td>4998</td>\n",
       "      <td>56</td>\n",
       "      <td>867</td>\n",
       "      <td>351</td>\n",
       "      <td>3</td>\n",
       "      <td>cash</td>\n",
       "      <td>2017-03-19 05:42:42</td>\n",
       "    </tr>\n",
       "    <tr>\n",
       "      <th>4998</th>\n",
       "      <td>4999</td>\n",
       "      <td>60</td>\n",
       "      <td>825</td>\n",
       "      <td>354</td>\n",
       "      <td>2</td>\n",
       "      <td>credit_card</td>\n",
       "      <td>2017-03-16 14:51:18</td>\n",
       "    </tr>\n",
       "    <tr>\n",
       "      <th>4999</th>\n",
       "      <td>5000</td>\n",
       "      <td>44</td>\n",
       "      <td>734</td>\n",
       "      <td>288</td>\n",
       "      <td>2</td>\n",
       "      <td>debit</td>\n",
       "      <td>2017-03-18 15:48:18</td>\n",
       "    </tr>\n",
       "  </tbody>\n",
       "</table>\n",
       "<p>5000 rows × 7 columns</p>\n",
       "</div>"
      ],
      "text/plain": [
       "     order_id shop_id user_id  order_amount  total_items payment_method  \\\n",
       "0           1      53     746           224            2           cash   \n",
       "1           2      92     925            90            1           cash   \n",
       "2           3      44     861           144            1           cash   \n",
       "3           4      18     935           156            1    credit_card   \n",
       "4           5      18     883           156            1    credit_card   \n",
       "...       ...     ...     ...           ...          ...            ...   \n",
       "4995     4996      73     993           330            2          debit   \n",
       "4996     4997      48     789           234            2           cash   \n",
       "4997     4998      56     867           351            3           cash   \n",
       "4998     4999      60     825           354            2    credit_card   \n",
       "4999     5000      44     734           288            2          debit   \n",
       "\n",
       "              created_at  \n",
       "0    2017-03-13 12:36:56  \n",
       "1    2017-03-03 17:38:52  \n",
       "2    2017-03-14 04:23:56  \n",
       "3    2017-03-26 12:43:37  \n",
       "4    2017-03-01 04:35:11  \n",
       "...                  ...  \n",
       "4995 2017-03-30 13:47:17  \n",
       "4996 2017-03-16 20:36:16  \n",
       "4997 2017-03-19 05:42:42  \n",
       "4998 2017-03-16 14:51:18  \n",
       "4999 2017-03-18 15:48:18  \n",
       "\n",
       "[5000 rows x 7 columns]"
      ]
     },
     "execution_count": 39,
     "metadata": {},
     "output_type": "execute_result"
    }
   ],
   "source": [
    "# turning the shop_id, order_id, and user_id columns into strings because we won't be doing math with IDs\n",
    "df['shop_id'] = df['shop_id'].astype('str')\n",
    "\n",
    "df['order_id'] = df['order_id'].astype('str')\n",
    "\n",
    "df['user_id'] = df['user_id'].astype('str')\n",
    "\n",
    "df"
   ]
  },
  {
   "cell_type": "code",
   "execution_count": 40,
   "id": "6e2c1d82",
   "metadata": {},
   "outputs": [
    {
     "data": {
      "text/plain": [
       "order_id                  object\n",
       "shop_id                   object\n",
       "user_id                   object\n",
       "order_amount               int64\n",
       "total_items                int64\n",
       "payment_method            object\n",
       "created_at        datetime64[ns]\n",
       "dtype: object"
      ]
     },
     "execution_count": 40,
     "metadata": {},
     "output_type": "execute_result"
    }
   ],
   "source": [
    "# making sure the data types actually changed\n",
    "df.dtypes"
   ]
  },
  {
   "cell_type": "code",
   "execution_count": 41,
   "id": "fa4d708b",
   "metadata": {},
   "outputs": [
    {
     "data": {
      "text/html": [
       "<div>\n",
       "<style scoped>\n",
       "    .dataframe tbody tr th:only-of-type {\n",
       "        vertical-align: middle;\n",
       "    }\n",
       "\n",
       "    .dataframe tbody tr th {\n",
       "        vertical-align: top;\n",
       "    }\n",
       "\n",
       "    .dataframe thead th {\n",
       "        text-align: right;\n",
       "    }\n",
       "</style>\n",
       "<table border=\"1\" class=\"dataframe\">\n",
       "  <thead>\n",
       "    <tr style=\"text-align: right;\">\n",
       "      <th></th>\n",
       "      <th>order_id</th>\n",
       "      <th>shop_id</th>\n",
       "      <th>user_id</th>\n",
       "      <th>order_amount</th>\n",
       "      <th>total_items</th>\n",
       "      <th>payment_method</th>\n",
       "      <th>created_at</th>\n",
       "    </tr>\n",
       "  </thead>\n",
       "  <tbody>\n",
       "    <tr>\n",
       "      <th>2457</th>\n",
       "      <td>2458</td>\n",
       "      <td>95</td>\n",
       "      <td>700</td>\n",
       "      <td>168</td>\n",
       "      <td>1</td>\n",
       "      <td>credit_card</td>\n",
       "      <td>2017-03-30 23:55:35</td>\n",
       "    </tr>\n",
       "    <tr>\n",
       "      <th>317</th>\n",
       "      <td>318</td>\n",
       "      <td>52</td>\n",
       "      <td>848</td>\n",
       "      <td>292</td>\n",
       "      <td>2</td>\n",
       "      <td>cash</td>\n",
       "      <td>2017-03-30 23:41:34</td>\n",
       "    </tr>\n",
       "    <tr>\n",
       "      <th>1474</th>\n",
       "      <td>1475</td>\n",
       "      <td>21</td>\n",
       "      <td>815</td>\n",
       "      <td>142</td>\n",
       "      <td>1</td>\n",
       "      <td>cash</td>\n",
       "      <td>2017-03-30 23:26:54</td>\n",
       "    </tr>\n",
       "    <tr>\n",
       "      <th>1685</th>\n",
       "      <td>1686</td>\n",
       "      <td>34</td>\n",
       "      <td>818</td>\n",
       "      <td>244</td>\n",
       "      <td>2</td>\n",
       "      <td>cash</td>\n",
       "      <td>2017-03-30 23:16:10</td>\n",
       "    </tr>\n",
       "    <tr>\n",
       "      <th>2630</th>\n",
       "      <td>2631</td>\n",
       "      <td>53</td>\n",
       "      <td>940</td>\n",
       "      <td>112</td>\n",
       "      <td>1</td>\n",
       "      <td>credit_card</td>\n",
       "      <td>2017-03-30 23:12:13</td>\n",
       "    </tr>\n",
       "    <tr>\n",
       "      <th>57</th>\n",
       "      <td>58</td>\n",
       "      <td>51</td>\n",
       "      <td>759</td>\n",
       "      <td>187</td>\n",
       "      <td>1</td>\n",
       "      <td>cash</td>\n",
       "      <td>2017-03-30 22:34:47</td>\n",
       "    </tr>\n",
       "    <tr>\n",
       "      <th>972</th>\n",
       "      <td>973</td>\n",
       "      <td>90</td>\n",
       "      <td>752</td>\n",
       "      <td>178</td>\n",
       "      <td>1</td>\n",
       "      <td>cash</td>\n",
       "      <td>2017-03-30 22:04:13</td>\n",
       "    </tr>\n",
       "    <tr>\n",
       "      <th>276</th>\n",
       "      <td>277</td>\n",
       "      <td>49</td>\n",
       "      <td>777</td>\n",
       "      <td>129</td>\n",
       "      <td>1</td>\n",
       "      <td>cash</td>\n",
       "      <td>2017-03-30 21:49:13</td>\n",
       "    </tr>\n",
       "    <tr>\n",
       "      <th>4161</th>\n",
       "      <td>4162</td>\n",
       "      <td>36</td>\n",
       "      <td>925</td>\n",
       "      <td>260</td>\n",
       "      <td>2</td>\n",
       "      <td>cash</td>\n",
       "      <td>2017-03-30 21:31:54</td>\n",
       "    </tr>\n",
       "    <tr>\n",
       "      <th>3149</th>\n",
       "      <td>3150</td>\n",
       "      <td>67</td>\n",
       "      <td>754</td>\n",
       "      <td>393</td>\n",
       "      <td>3</td>\n",
       "      <td>debit</td>\n",
       "      <td>2017-03-30 21:31:11</td>\n",
       "    </tr>\n",
       "    <tr>\n",
       "      <th>3643</th>\n",
       "      <td>3644</td>\n",
       "      <td>41</td>\n",
       "      <td>764</td>\n",
       "      <td>472</td>\n",
       "      <td>4</td>\n",
       "      <td>debit</td>\n",
       "      <td>2017-03-30 21:26:50</td>\n",
       "    </tr>\n",
       "    <tr>\n",
       "      <th>3484</th>\n",
       "      <td>3485</td>\n",
       "      <td>87</td>\n",
       "      <td>892</td>\n",
       "      <td>149</td>\n",
       "      <td>1</td>\n",
       "      <td>cash</td>\n",
       "      <td>2017-03-30 21:22:10</td>\n",
       "    </tr>\n",
       "    <tr>\n",
       "      <th>4097</th>\n",
       "      <td>4098</td>\n",
       "      <td>67</td>\n",
       "      <td>837</td>\n",
       "      <td>393</td>\n",
       "      <td>3</td>\n",
       "      <td>debit</td>\n",
       "      <td>2017-03-30 21:20:10</td>\n",
       "    </tr>\n",
       "    <tr>\n",
       "      <th>3362</th>\n",
       "      <td>3363</td>\n",
       "      <td>86</td>\n",
       "      <td>831</td>\n",
       "      <td>130</td>\n",
       "      <td>1</td>\n",
       "      <td>debit</td>\n",
       "      <td>2017-03-30 21:19:09</td>\n",
       "    </tr>\n",
       "    <tr>\n",
       "      <th>9</th>\n",
       "      <td>10</td>\n",
       "      <td>52</td>\n",
       "      <td>788</td>\n",
       "      <td>146</td>\n",
       "      <td>1</td>\n",
       "      <td>credit_card</td>\n",
       "      <td>2017-03-30 21:08:26</td>\n",
       "    </tr>\n",
       "    <tr>\n",
       "      <th>702</th>\n",
       "      <td>703</td>\n",
       "      <td>60</td>\n",
       "      <td>958</td>\n",
       "      <td>177</td>\n",
       "      <td>1</td>\n",
       "      <td>credit_card</td>\n",
       "      <td>2017-03-30 20:46:29</td>\n",
       "    </tr>\n",
       "    <tr>\n",
       "      <th>3937</th>\n",
       "      <td>3938</td>\n",
       "      <td>63</td>\n",
       "      <td>857</td>\n",
       "      <td>272</td>\n",
       "      <td>2</td>\n",
       "      <td>cash</td>\n",
       "      <td>2017-03-30 20:21:38</td>\n",
       "    </tr>\n",
       "    <tr>\n",
       "      <th>4527</th>\n",
       "      <td>4528</td>\n",
       "      <td>54</td>\n",
       "      <td>935</td>\n",
       "      <td>266</td>\n",
       "      <td>2</td>\n",
       "      <td>debit</td>\n",
       "      <td>2017-03-30 20:18:21</td>\n",
       "    </tr>\n",
       "    <tr>\n",
       "      <th>20</th>\n",
       "      <td>21</td>\n",
       "      <td>66</td>\n",
       "      <td>987</td>\n",
       "      <td>322</td>\n",
       "      <td>2</td>\n",
       "      <td>cash</td>\n",
       "      <td>2017-03-30 20:11:59</td>\n",
       "    </tr>\n",
       "    <tr>\n",
       "      <th>3041</th>\n",
       "      <td>3042</td>\n",
       "      <td>93</td>\n",
       "      <td>894</td>\n",
       "      <td>228</td>\n",
       "      <td>2</td>\n",
       "      <td>debit</td>\n",
       "      <td>2017-03-30 20:10:27</td>\n",
       "    </tr>\n",
       "  </tbody>\n",
       "</table>\n",
       "</div>"
      ],
      "text/plain": [
       "     order_id shop_id user_id  order_amount  total_items payment_method  \\\n",
       "2457     2458      95     700           168            1    credit_card   \n",
       "317       318      52     848           292            2           cash   \n",
       "1474     1475      21     815           142            1           cash   \n",
       "1685     1686      34     818           244            2           cash   \n",
       "2630     2631      53     940           112            1    credit_card   \n",
       "57         58      51     759           187            1           cash   \n",
       "972       973      90     752           178            1           cash   \n",
       "276       277      49     777           129            1           cash   \n",
       "4161     4162      36     925           260            2           cash   \n",
       "3149     3150      67     754           393            3          debit   \n",
       "3643     3644      41     764           472            4          debit   \n",
       "3484     3485      87     892           149            1           cash   \n",
       "4097     4098      67     837           393            3          debit   \n",
       "3362     3363      86     831           130            1          debit   \n",
       "9          10      52     788           146            1    credit_card   \n",
       "702       703      60     958           177            1    credit_card   \n",
       "3937     3938      63     857           272            2           cash   \n",
       "4527     4528      54     935           266            2          debit   \n",
       "20         21      66     987           322            2           cash   \n",
       "3041     3042      93     894           228            2          debit   \n",
       "\n",
       "              created_at  \n",
       "2457 2017-03-30 23:55:35  \n",
       "317  2017-03-30 23:41:34  \n",
       "1474 2017-03-30 23:26:54  \n",
       "1685 2017-03-30 23:16:10  \n",
       "2630 2017-03-30 23:12:13  \n",
       "57   2017-03-30 22:34:47  \n",
       "972  2017-03-30 22:04:13  \n",
       "276  2017-03-30 21:49:13  \n",
       "4161 2017-03-30 21:31:54  \n",
       "3149 2017-03-30 21:31:11  \n",
       "3643 2017-03-30 21:26:50  \n",
       "3484 2017-03-30 21:22:10  \n",
       "4097 2017-03-30 21:20:10  \n",
       "3362 2017-03-30 21:19:09  \n",
       "9    2017-03-30 21:08:26  \n",
       "702  2017-03-30 20:46:29  \n",
       "3937 2017-03-30 20:21:38  \n",
       "4527 2017-03-30 20:18:21  \n",
       "20   2017-03-30 20:11:59  \n",
       "3041 2017-03-30 20:10:27  "
      ]
     },
     "execution_count": 41,
     "metadata": {},
     "output_type": "execute_result"
    }
   ],
   "source": [
    "# Sort the created_at column by ascending\n",
    "df = df.sort_values(\"created_at\", ascending=False) \n",
    "df.head(20)"
   ]
  },
  {
   "cell_type": "code",
   "execution_count": 58,
   "id": "5b0536f5",
   "metadata": {},
   "outputs": [
    {
     "data": {
      "text/plain": [
       "3145.128"
      ]
     },
     "execution_count": 58,
     "metadata": {},
     "output_type": "execute_result"
    }
   ],
   "source": [
    "# This is taking the mean of order amount column to get the \n",
    "# same AOV as the company originally did\n",
    "df['order_amount'].mean()"
   ]
  },
  {
   "cell_type": "code",
   "execution_count": 60,
   "id": "bfdcb8c2",
   "metadata": {},
   "outputs": [
    {
     "data": {
      "text/plain": [
       "704000"
      ]
     },
     "execution_count": 60,
     "metadata": {},
     "output_type": "execute_result"
    }
   ],
   "source": [
    "# I grabbed the maximum value here just to see larger values\n",
    "# are skewing the mean, and I was right in my assumption\n",
    "df['order_amount'].max()"
   ]
  },
  {
   "cell_type": "code",
   "execution_count": 44,
   "id": "951f6019",
   "metadata": {},
   "outputs": [
    {
     "data": {
      "text/plain": [
       "Timestamp('2017-03-30 23:55:35')"
      ]
     },
     "execution_count": 44,
     "metadata": {},
     "output_type": "execute_result"
    }
   ],
   "source": [
    "# seeing the largest date\n",
    "df['created_at'].max()"
   ]
  },
  {
   "cell_type": "code",
   "execution_count": 46,
   "id": "5b48727d",
   "metadata": {},
   "outputs": [
    {
     "data": {
      "text/plain": [
       "Timestamp('2017-03-01 00:08:09')"
      ]
     },
     "execution_count": 46,
     "metadata": {},
     "output_type": "execute_result"
    }
   ],
   "source": [
    "# seeing the smallest date\n",
    "# this helps us to know how much we need to slice to only get info for the \n",
    "# past 30 days\n",
    "\n",
    "# it appears as though there is only 30 days worth of data here, which is nice\n",
    "df['created_at'].min()"
   ]
  },
  {
   "cell_type": "code",
   "execution_count": 47,
   "id": "d6ec95cd",
   "metadata": {},
   "outputs": [
    {
     "name": "stdout",
     "output_type": "stream",
     "text": [
      "total order amount: 15725640\n",
      "total items ordered: 43936\n"
     ]
    }
   ],
   "source": [
    "# Average Order Value(AOV) is calculated by dividing revenue by number of orders\n",
    "\n",
    "# this sums up everything in the order_amount column and saves it as the variable, Total_order_amount.\n",
    "# I am assuming order_amount is the cost of all items ordered, rounded to the nearest whole number\n",
    "# because we also have a total_items column which tells us how many sneakers were purchased \n",
    " \n",
    "Total_order_amount = df['order_amount'].sum()\n",
    "print (f'total order amount: {Total_order_amount}')\n",
    "\n",
    "# this is sums up everything in the total_items column and \n",
    "# as the variable, Total_items\n",
    "Total_items = df['total_items'].sum()\n",
    "print (f'total items ordered: {Total_items}')"
   ]
  },
  {
   "cell_type": "code",
   "execution_count": 56,
   "id": "58898aa9",
   "metadata": {},
   "outputs": [
    {
     "name": "stdout",
     "output_type": "stream",
     "text": [
      "The AOV of the past 30 days is: \n",
      "357.92152221412965\n"
     ]
    }
   ],
   "source": [
    "# This is displaying the result of dividing Total_order_amount by Total_items\n",
    "# to get the AOV\n",
    "print('The AOV of the past 30 days is: ')\n",
    "print(Total_order_amount / Total_items )"
   ]
  },
  {
   "cell_type": "markdown",
   "id": "913502c2",
   "metadata": {},
   "source": [
    "## Think about what could be going wrong with our calculation. Think about a better way to evaluate this data. \n",
    "\n",
    "You originally just grabbed the mean which normally would be fine, but occasionally, you had >$70,000 orders, probably \n",
    "from large scale resellers."
   ]
  },
  {
   "cell_type": "markdown",
   "id": "5d0dd86e",
   "metadata": {},
   "source": [
    "## What metric would you report for this dataset?\n",
    "\n",
    "I think the AOV the way I calculated it(revenue / number of orders) got an average that's pretty good for what we're\n",
    "doing here. Another useful metric though would be to see the average amount of items sold. \n",
    "\n",
    "## What is its value?\n",
    "That would probably confirm my hypothesis of having large scale resellers skewing the data."
   ]
  }
 ],
 "metadata": {
  "kernelspec": {
   "display_name": "Python 3 (ipykernel)",
   "language": "python",
   "name": "python3"
  },
  "language_info": {
   "codemirror_mode": {
    "name": "ipython",
    "version": 3
   },
   "file_extension": ".py",
   "mimetype": "text/x-python",
   "name": "python",
   "nbconvert_exporter": "python",
   "pygments_lexer": "ipython3",
   "version": "3.8.2"
  }
 },
 "nbformat": 4,
 "nbformat_minor": 5
}
